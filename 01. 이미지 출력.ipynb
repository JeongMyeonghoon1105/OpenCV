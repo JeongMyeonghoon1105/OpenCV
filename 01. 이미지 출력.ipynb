{
 "cells": [
  {
   "cell_type": "markdown",
   "id": "12686494",
   "metadata": {},
   "source": [
    "# 1. 이미지 출력"
   ]
  },
  {
   "cell_type": "markdown",
   "id": "f720ab89",
   "metadata": {},
   "source": [
    "## 개발 환경 설정\n",
    "\n",
    "Anaconda Prompt 또는 터미널에서 다음 명령 수행\n",
    "> pip3 install opencv-python"
   ]
  },
  {
   "cell_type": "markdown",
   "id": "18765e52",
   "metadata": {},
   "source": [
    "## 이미지 출력"
   ]
  },
  {
   "cell_type": "code",
   "execution_count": 23,
   "id": "be9e5149",
   "metadata": {},
   "outputs": [
    {
     "data": {
      "text/plain": [
       "'4.5.5'"
      ]
     },
     "execution_count": 23,
     "metadata": {},
     "output_type": "execute_result"
    }
   ],
   "source": [
    "import cv2\n",
    "from cv2 import IMREAD_COLOR     # 읽기 옵션 지정을 위한 FLAG\n",
    "from cv2 import IMREAD_GRAYSCALE # 읽기 옵션 지정을 위한 FLAG\n",
    "from cv2 import IMREAD_UNCHANGED # 읽기 옵션 지정을 위한 FLAG\n",
    "\n",
    "cv2.__version__ # OpenCV 버전 확인"
   ]
  },
  {
   "cell_type": "markdown",
   "id": "a408e8f7",
   "metadata": {},
   "source": [
    "### 이미지 출력하기"
   ]
  },
  {
   "cell_type": "code",
   "execution_count": 33,
   "id": "f5f1259f",
   "metadata": {},
   "outputs": [
    {
     "name": "stdout",
     "output_type": "stream",
     "text": [
      "-1\n"
     ]
    },
    {
     "data": {
      "text/plain": [
       "-1"
      ]
     },
     "execution_count": 33,
     "metadata": {},
     "output_type": "execute_result"
    }
   ],
   "source": [
    "import cv2\n",
    "\n",
    "img = cv2.imread('Data/img.jpeg') # 이미지 불러오기\n",
    "\n",
    "cv2.imshow('My Image', img) # 새 창에 이미지 표출\n",
    "\n",
    "print(cv2.waitKey(5000)) # 5초간 키 입력 대기\n",
    "cv2.destroyAllWindows() # 모든 창 닫기\n",
    "\n",
    "cv2.waitKey(1); cv2.waitKey(1); cv2.waitKey(1); cv2.waitKey(1) # Windows 운영체제에서는 생략"
   ]
  },
  {
   "cell_type": "markdown",
   "id": "0d80fe9e",
   "metadata": {},
   "source": [
    "### 컬러 출력"
   ]
  },
  {
   "cell_type": "code",
   "execution_count": 32,
   "id": "ec7d38c6",
   "metadata": {},
   "outputs": [
    {
     "data": {
      "text/plain": [
       "-1"
      ]
     },
     "execution_count": 32,
     "metadata": {},
     "output_type": "execute_result"
    }
   ],
   "source": [
    "import cv2\n",
    "\n",
    "img = cv2.imread('Data/img.jpeg', IMREAD_COLOR) # 컬러 형태로 이미지 불러오기\n",
    "\n",
    "cv2.imshow('My Image', img)\n",
    "\n",
    "cv2.waitKey(5000)\n",
    "cv2.destroyAllWindows()\n",
    "\n",
    "cv2.waitKey(1); cv2.waitKey(1); cv2.waitKey(1); cv2.waitKey(1) # Windows 운영체제에서는 생략"
   ]
  },
  {
   "cell_type": "markdown",
   "id": "23650d96",
   "metadata": {},
   "source": [
    "### 흑백 출력"
   ]
  },
  {
   "cell_type": "code",
   "execution_count": 13,
   "id": "f74bbc25",
   "metadata": {},
   "outputs": [
    {
     "data": {
      "text/plain": [
       "-1"
      ]
     },
     "execution_count": 13,
     "metadata": {},
     "output_type": "execute_result"
    }
   ],
   "source": [
    "import cv2\n",
    "\n",
    "img_gray = cv2.imread('Data/img.jpeg', IMREAD_GRAYSCALE) # 흑백 형태로 이미지 불러오기\n",
    "\n",
    "cv2.imshow('My Image', img_gray)\n",
    "\n",
    "cv2.waitKey(5000)\n",
    "cv2.destroyAllWindows()\n",
    "\n",
    "cv2.waitKey(1); cv2.waitKey(1); cv2.waitKey(1); cv2.waitKey(1) # Windows 운영체제에서는 생략"
   ]
  },
  {
   "cell_type": "markdown",
   "id": "d77fac65",
   "metadata": {},
   "source": [
    "### 투명 영역 포함하여 출력"
   ]
  },
  {
   "cell_type": "code",
   "execution_count": 30,
   "id": "7a7cfa64",
   "metadata": {},
   "outputs": [
    {
     "data": {
      "text/plain": [
       "-1"
      ]
     },
     "execution_count": 30,
     "metadata": {},
     "output_type": "execute_result"
    }
   ],
   "source": [
    "import cv2\n",
    "\n",
    "img = cv2.imread('Data/img.jpeg', IMREAD_UNCHANGED)\n",
    "\n",
    "cv2.imshow('My Image', img)\n",
    "\n",
    "cv2.waitKey(5000)\n",
    "cv2.destroyAllWindows()\n",
    "\n",
    "cv2.waitKey(1); cv2.waitKey(1); cv2.waitKey(1); cv2.waitKey(1) # Windows 운영체제에서는 생략"
   ]
  },
  {
   "cell_type": "markdown",
   "id": "203aa18e",
   "metadata": {},
   "source": [
    "### 입력한 키 출력하기"
   ]
  },
  {
   "cell_type": "code",
   "execution_count": 11,
   "id": "54deac9a",
   "metadata": {},
   "outputs": [
    {
     "name": "stdout",
     "output_type": "stream",
     "text": [
      "97\n"
     ]
    },
    {
     "data": {
      "text/plain": [
       "-1"
      ]
     },
     "execution_count": 11,
     "metadata": {},
     "output_type": "execute_result"
    }
   ],
   "source": [
    "img = cv2.imread('Data/img.jpeg')\n",
    "\n",
    "cv2.imshow('My Image', img)\n",
    "\n",
    "key = cv2.waitKey(5000) # waitKey() 함수는 이미지 창에 입력한 키의 아스키 코드 값을 반환. 입력한 키가 없으면 -1 반환\n",
    "print(key)\n",
    "cv2.destroyAllWindows()\n",
    "\n",
    "cv2.waitKey(1); cv2.waitKey(1); cv2.waitKey(1); cv2.waitKey(1) # Windows 운영체제에서는 생략"
   ]
  },
  {
   "cell_type": "markdown",
   "id": "a26327c9",
   "metadata": {},
   "source": [
    "## Shape\n",
    "이미지의 Height, Width, Channel 정보"
   ]
  },
  {
   "cell_type": "code",
   "execution_count": 8,
   "id": "8fd1f603",
   "metadata": {},
   "outputs": [
    {
     "data": {
      "text/plain": [
       "(972, 1024, 3)"
      ]
     },
     "execution_count": 8,
     "metadata": {},
     "output_type": "execute_result"
    }
   ],
   "source": [
    "img.shape"
   ]
  }
 ],
 "metadata": {
  "kernelspec": {
   "display_name": "Python 3 (ipykernel)",
   "language": "python",
   "name": "python3"
  },
  "language_info": {
   "codemirror_mode": {
    "name": "ipython",
    "version": 3
   },
   "file_extension": ".py",
   "mimetype": "text/x-python",
   "name": "python",
   "nbconvert_exporter": "python",
   "pygments_lexer": "ipython3",
   "version": "3.10.2"
  }
 },
 "nbformat": 4,
 "nbformat_minor": 5
}
