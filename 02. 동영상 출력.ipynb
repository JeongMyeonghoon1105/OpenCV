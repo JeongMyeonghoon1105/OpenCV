{
 "cells": [
  {
   "cell_type": "markdown",
   "id": "51a0d7dc",
   "metadata": {},
   "source": [
    "# 2. 동영상 출력"
   ]
  },
  {
   "cell_type": "markdown",
   "id": "4962d795",
   "metadata": {},
   "source": [
    "## 컴퓨터가 동영상을 출력하는 방식\n",
    "* 동영상은 영상(이미지)의 집합.\n",
    "* 1초당 약 60장의 사진을 순차적으로 띄워, 영상이 움직이는 것처럼 보이게 하는 것.\n",
    "* 각 영상의 인터벌은 주로 33ms.\n",
    "* 초당 프레임(Frame Rate)이 클수록 영상이 사실적."
   ]
  },
  {
   "cell_type": "code",
   "execution_count": 2,
   "id": "2adfb9c9",
   "metadata": {},
   "outputs": [],
   "source": [
    "import cv2"
   ]
  },
  {
   "cell_type": "markdown",
   "id": "aa8f37a0",
   "metadata": {},
   "source": [
    "## 동영상 재생창 닫는 함수 정의"
   ]
  },
  {
   "cell_type": "code",
   "execution_count": 3,
   "id": "35350eb6",
   "metadata": {},
   "outputs": [],
   "source": [
    "def offVideo():\n",
    "    cv2.destroyAllWindows() # 모든 창 닫기\n",
    "    cv2.waitKey(1); cv2.waitKey(1); cv2.waitKey(1); cv2.waitKey(1) # Windows 운영체제에서는 생략"
   ]
  },
  {
   "cell_type": "markdown",
   "id": "f254e2c2",
   "metadata": {},
   "source": [
    "## 동영상 파일 출력하기\n",
    "저작권 없는 동영상 파일 무료 다운로드 : pexels.com"
   ]
  },
  {
   "cell_type": "code",
   "execution_count": 11,
   "id": "c4883916",
   "metadata": {},
   "outputs": [],
   "source": [
    "cap = cv2.VideoCapture('Data/video.mp4')\n",
    "\n",
    "while cap.isOpened():   # 동영상 파일이 제대로 열리면 참을 반환\n",
    "    \n",
    "    ret, frame = cap.read()   # ret : 프레임 read 성공 여부, frame : 불러온 프레임\n",
    "    \n",
    "    if not ret:   # 더 이상 불러올 프레임이 없을 경우, 동영상 출력을 종료\n",
    "        break\n",
    "    \n",
    "    if count == 100:\n",
    "        cv2.imwrite('Data/frame.jpg', frame)\n",
    "    \n",
    "    cv2.imshow('My Video', frame)   # 불러온 프레임을 화면에 출력\n",
    "    \n",
    "    if cv2.waitKey(1) == ord('q'):   # 'Q'키 입력하면 동영상 출력을 종료\n",
    "        break\n",
    "\n",
    "# print(cap.get(cv2.CAP_PROP_FPS))        \n",
    "cap.release()   # 자원 해제. 객체 사용 완료 후 삭제하여 메모리 효율 확보\n",
    "offVideo()"
   ]
  },
  {
   "cell_type": "markdown",
   "id": "4663f988",
   "metadata": {},
   "source": [
    "## 카메라 사용하기"
   ]
  },
  {
   "cell_type": "code",
   "execution_count": 4,
   "id": "273594f2",
   "metadata": {},
   "outputs": [],
   "source": [
    "cap = cv2.VideoCapture(1)   # 0번째 카메라 장치(Device ID가 0)\n",
    "\n",
    "if not cap.isOpened():   # 카메라 실행이 실패했을 경우\n",
    "    exit()   # 프로그램 종료\n",
    "\n",
    "while True:\n",
    "    ret, frame = cap.read()\n",
    "    \n",
    "    if not ret:   # 불러올 프레임이 없을 경우 카메라 종료\n",
    "        break\n",
    "    \n",
    "    cv2.imshow('My Cam', frame)\n",
    "    \n",
    "    if cv2.waitKey(1) == ord('q'):   # 'Q'키 입력하면 동영상 출력을 종료\n",
    "        break\n",
    "\n",
    "cap.release()\n",
    "offVideo()"
   ]
  },
  {
   "cell_type": "code",
   "execution_count": null,
   "id": "789a0b4d",
   "metadata": {},
   "outputs": [],
   "source": []
  }
 ],
 "metadata": {
  "kernelspec": {
   "display_name": "Python 3 (ipykernel)",
   "language": "python",
   "name": "python3"
  },
  "language_info": {
   "codemirror_mode": {
    "name": "ipython",
    "version": 3
   },
   "file_extension": ".py",
   "mimetype": "text/x-python",
   "name": "python",
   "nbconvert_exporter": "python",
   "pygments_lexer": "ipython3",
   "version": "3.10.2"
  }
 },
 "nbformat": 4,
 "nbformat_minor": 5
}
