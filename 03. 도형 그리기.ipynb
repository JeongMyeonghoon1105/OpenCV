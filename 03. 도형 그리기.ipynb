{
 "cells": [
  {
   "cell_type": "markdown",
   "id": "efa5128d",
   "metadata": {},
   "source": [
    "# 3. 도형 그리기"
   ]
  },
  {
   "cell_type": "code",
   "execution_count": 2,
   "id": "5a69083f",
   "metadata": {},
   "outputs": [],
   "source": [
    "import numpy as np\n",
    "import cv2"
   ]
  },
  {
   "cell_type": "markdown",
   "id": "2c4b4bfc",
   "metadata": {},
   "source": [
    "## 이미지 출력 함수 정의"
   ]
  },
  {
   "cell_type": "code",
   "execution_count": 3,
   "id": "42cb51f4",
   "metadata": {},
   "outputs": [],
   "source": [
    "def showImage(str):\n",
    "    \n",
    "    cv2.imshow('My Image', str)\n",
    "    \n",
    "    cv2.waitKey(5000) # 5초간 키 입력 대기\n",
    "    cv2.destroyAllWindows() # 모든 창 닫기\n",
    "\n",
    "    cv2.waitKey(1); cv2.waitKey(1); cv2.waitKey(1); cv2.waitKey(1) # Windows 운영체제에서는 생략"
   ]
  },
  {
   "cell_type": "markdown",
   "id": "4e37f812",
   "metadata": {},
   "source": [
    "## 빈 스케치북 생성하기"
   ]
  },
  {
   "cell_type": "code",
   "execution_count": 8,
   "id": "4a13384a",
   "metadata": {},
   "outputs": [],
   "source": [
    "img = np.zeros((480, 640, 3), dtype = np.uint8)   # 세로 480 X 가로 630, Channel 3개(BGR), 검은색으로 채워진 스케치북 생성\n",
    "img[:] = (255, 255, 255)   # 스케치북 흰색으로 채우기\n",
    "\n",
    "showImage(img)"
   ]
  },
  {
   "cell_type": "markdown",
   "id": "a9289696",
   "metadata": {},
   "source": [
    "## 일부 영역 색칠하기"
   ]
  },
  {
   "cell_type": "code",
   "execution_count": 7,
   "id": "47d2245f",
   "metadata": {},
   "outputs": [],
   "source": [
    "img = np.zeros((480, 640, 3), dtype = np.uint8)\n",
    "img[100:200, 200:300] = (255, 255, 255)   # 세로 100px - 200px, 가로 200px - 300px의 영역을 흰색으로 설정\n",
    "\n",
    "showImage(img)"
   ]
  },
  {
   "cell_type": "markdown",
   "id": "e2831f9d",
   "metadata": {},
   "source": [
    "## 직선 그리기\n",
    "\n",
    "직선의 종류\n",
    "1. cv2.LINE_4 : 대각선 방향으로 연결 불가\n",
    "1. cv2.LINE_8 : 대각선 방향으로 연결 가능\n",
    "1. cv2.LINE_AA : 부드러운 선 (Anti - Aliasing)"
   ]
  },
  {
   "cell_type": "code",
   "execution_count": 11,
   "id": "59dfceac",
   "metadata": {},
   "outputs": [],
   "source": [
    "img = np.zeros((480, 640, 3), dtype = np.uint8)\n",
    "\n",
    "COLOR = (0, 255, 255)\n",
    "THICKNESS = 3\n",
    "\n",
    "cv2.line(img, (50, 100), (400, 50), COLOR, THICKNESS, cv2.LINE_4)   # 스케치북, 시작 좌표, 끝 좌표, 색깔, 두께, 선 종류\n",
    "cv2.line(img, (50, 200), (400, 150), COLOR, THICKNESS, cv2.LINE_8)\n",
    "cv2.line(img, (50, 300), (400, 250), COLOR, THICKNESS, cv2.LINE_AA)\n",
    "\n",
    "showImage(img)"
   ]
  },
  {
   "cell_type": "markdown",
   "id": "0c5741b9",
   "metadata": {},
   "source": [
    "## 원 그리기"
   ]
  },
  {
   "cell_type": "code",
   "execution_count": 15,
   "id": "7092f293",
   "metadata": {},
   "outputs": [],
   "source": [
    "img = np.zeros((480, 640, 3), dtype = np.uint8)\n",
    "\n",
    "RADIUS = 50   # 반지름\n",
    "COLOR = (0, 255, 255)\n",
    "THICKNESS = 10\n",
    "\n",
    "cv2.circle(img, (400, 200), RADIUS, COLOR, THICKNESS, cv2.LINE_AA)   # 스케치북, 원의 중심 좌표, 색깔, 두께, 선 종류\n",
    "cv2.circle(img, (200, 200), RADIUS, COLOR, cv2.FILLED, cv2.LINE_AA)   # 속이 꽉 찬 원은 두께 자리에 cv2.FILLED를 전달\n",
    "\n",
    "showImage(img)"
   ]
  },
  {
   "cell_type": "markdown",
   "id": "6ad68870",
   "metadata": {},
   "source": [
    "## 사각형 그리기"
   ]
  },
  {
   "cell_type": "code",
   "execution_count": 16,
   "id": "eb68f23f",
   "metadata": {},
   "outputs": [],
   "source": [
    "img = np.zeros((480, 640, 3), dtype = np.uint8)\n",
    "\n",
    "COLOR = (0, 255, 255)\n",
    "THICKNESS = 3\n",
    "\n",
    "cv2.rectangle(img, (100, 100), (200, 200), COLOR, THICKNESS)   # 스케치북, 시작 좌표, 끝 좌표, 색깔, 두께\n",
    "cv2.rectangle(img, (300, 100), (400, 200), COLOR, cv2.FILLED)\n",
    "\n",
    "showImage(img)"
   ]
  },
  {
   "cell_type": "markdown",
   "id": "5381e8ad",
   "metadata": {},
   "source": [
    "## 다각형 그리기"
   ]
  },
  {
   "cell_type": "code",
   "execution_count": 20,
   "id": "a3a000a4",
   "metadata": {},
   "outputs": [],
   "source": [
    "img = np.zeros((480, 640, 3), dtype = np.uint8)\n",
    "\n",
    "COLOR = (0, 255, 255)\n",
    "THICKNESS = 3\n",
    "\n",
    "points1 = np.array([[100, 100], [200, 100], [100, 200]])\n",
    "points2 = np.array([[200, 100], [300, 100], [300, 200]])\n",
    "\n",
    "cv2.polylines(img, [points1], True, COLOR, THICKNESS, cv2.LINE_AA)   # 스케치북, 다각형의 좌표들, 닫힘 여부, 색깔, 두께, 선 종류\n",
    "cv2.polylines(img, [points2], True, COLOR, THICKNESS, cv2.LINE_AA)   # 스케치북, 다각형의 좌표들, 닫힘 여부, 색깔, 두께, 선 종류\n",
    "\n",
    "# cv2.polylines(img, [points1, points2], True, COLOR, THICKNESS, cv2.LINE_AA)\n",
    "\n",
    "showImage(img)"
   ]
  },
  {
   "cell_type": "code",
   "execution_count": 22,
   "id": "24468703",
   "metadata": {},
   "outputs": [],
   "source": [
    "img = np.zeros((480, 640, 3), dtype = np.uint8)\n",
    "\n",
    "COLOR = (0, 255, 255)\n",
    "THICKNESS = 3\n",
    "\n",
    "points3 = np.array([[[100, 200], [200, 200], [100, 300]]])   # 속이 꽉 찬 다각형. 대괄호 3겹이 필요.\n",
    "cv2.fillPoly(img, points3, COLOR, cv2.LINE_AA)\n",
    "\n",
    "showImage(img)"
   ]
  }
 ],
 "metadata": {
  "kernelspec": {
   "display_name": "Python 3 (ipykernel)",
   "language": "python",
   "name": "python3"
  },
  "language_info": {
   "codemirror_mode": {
    "name": "ipython",
    "version": 3
   },
   "file_extension": ".py",
   "mimetype": "text/x-python",
   "name": "python",
   "nbconvert_exporter": "python",
   "pygments_lexer": "ipython3",
   "version": "3.10.2"
  }
 },
 "nbformat": 4,
 "nbformat_minor": 5
}
