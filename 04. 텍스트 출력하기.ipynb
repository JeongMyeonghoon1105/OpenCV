{
 "cells": [
  {
   "cell_type": "markdown",
   "id": "2212492a",
   "metadata": {},
   "source": [
    "# 4. 텍스트 출력하기"
   ]
  },
  {
   "cell_type": "code",
   "execution_count": 1,
   "id": "d2790d54",
   "metadata": {},
   "outputs": [],
   "source": [
    "import numpy as np\n",
    "import cv2"
   ]
  },
  {
   "cell_type": "markdown",
   "id": "44e61c8c",
   "metadata": {},
   "source": [
    "## 이미지 출력 함수 정의"
   ]
  },
  {
   "cell_type": "code",
   "execution_count": 2,
   "id": "97dee20a",
   "metadata": {},
   "outputs": [],
   "source": [
    "def showImage(str):\n",
    "    \n",
    "    cv2.imshow('My Image', str)\n",
    "    \n",
    "    cv2.waitKey(5000) # 5초간 키 입력 대기\n",
    "    cv2.destroyAllWindows() # 모든 창 닫기\n",
    "\n",
    "    cv2.waitKey(1); cv2.waitKey(1); cv2.waitKey(1); cv2.waitKey(1) # Windows 운영체제에서는 생략"
   ]
  },
  {
   "cell_type": "markdown",
   "id": "fbb03ff7",
   "metadata": {},
   "source": [
    "## OpenCV에서 사용 가능한 글꼴 종류\n",
    "1. cv2.FONT_HERSHEY_SIMPLEX &nbsp;&nbsp;&nbsp;&nbsp;&nbsp;&nbsp;&nbsp;&nbsp;&nbsp;&nbsp;&nbsp;&nbsp;&nbsp;&nbsp;&nbsp;: 보통 크기의 Sans-Serif 글꼴\n",
    "1. cv2.FONT_HERSHEY_PLAIN &nbsp;&nbsp;&nbsp;&nbsp;&nbsp;&nbsp;&nbsp;&nbsp;&nbsp;&nbsp;&nbsp;&nbsp;&nbsp;&nbsp;&nbsp;&nbsp;&nbsp;&nbsp;&nbsp;&nbsp;: 작은 크기의 Sans-Serif 글꼴\n",
    "1. cv2.FONT_HERSHEY_SCRIPT_SIMPLEX&#160;&#160;: 필기체 글꼴\n",
    "1. cv2.FONT_HERSHEY_TRIPLEX &nbsp;&nbsp;&nbsp;&nbsp;&nbsp;&nbsp;&nbsp;&nbsp;&nbsp;&nbsp;&nbsp;&nbsp;&nbsp;&nbsp;&nbsp;&nbsp;: 보통 크기의 Serif 글꼴\n",
    "1. cv2.FONT_ITALIC &nbsp;&nbsp;&nbsp;&nbsp;&nbsp;&nbsp;&nbsp;&nbsp;&nbsp;&nbsp;&nbsp;&nbsp;&nbsp;&nbsp;&nbsp;&nbsp;&nbsp;&nbsp;&nbsp;&nbsp;&nbsp;&nbsp;&nbsp;&nbsp;&nbsp;&nbsp;&nbsp;&nbsp;&nbsp;&nbsp;&nbsp;&nbsp;&nbsp;&nbsp;&nbsp;&nbsp;&nbsp;&nbsp;: 이탤릭체"
   ]
  },
  {
   "cell_type": "markdown",
   "id": "e3b54041",
   "metadata": {},
   "source": [
    "## 영문 텍스트 출력하기"
   ]
  },
  {
   "cell_type": "code",
   "execution_count": 3,
   "id": "051a64ea",
   "metadata": {},
   "outputs": [],
   "source": [
    "img = np.zeros((480, 640, 3), dtype = np.uint8)\n",
    "\n",
    "FONT = cv2.FONT_HERSHEY_TRIPLEX\n",
    "SCALE = 1\n",
    "COLOR = (255, 255, 255)\n",
    "THICKNESS = 3\n",
    "\n",
    "cv2.putText(img, \"Hello World\", (20, 50), FONT, SCALE, COLOR, THICKNESS)   # 스케치북, 텍스트, 시작 좌표, 폰트, 크기, 색깔, 두께\n",
    "\n",
    "showImage(img)"
   ]
  },
  {
   "cell_type": "code",
   "execution_count": null,
   "id": "270b012c",
   "metadata": {},
   "outputs": [],
   "source": [
    "img = np.zeros((480, 640, 3), dtype = np.uint8)\n",
    "\n",
    "FONT = (cv2.FONT_HERSHEY_TRIPLEX | cv2.FONT_ITALIC)   # 이탤릭체를 출력할 때는 폰트를 이와 같이 지정\n",
    "SCALE = 1\n",
    "COLOR = (255, 255, 255)\n",
    "THICKNESS = 3\n",
    "\n",
    "cv2.putText(img, \"Hello World\", (20, 50), FONT, SCALE, COLOR, THICKNESS)\n",
    "\n",
    "showImage(img)"
   ]
  },
  {
   "cell_type": "code",
   "execution_count": null,
   "id": "5359fb13",
   "metadata": {},
   "outputs": [],
   "source": []
  }
 ],
 "metadata": {
  "kernelspec": {
   "display_name": "Python 3 (ipykernel)",
   "language": "python",
   "name": "python3"
  },
  "language_info": {
   "codemirror_mode": {
    "name": "ipython",
    "version": 3
   },
   "file_extension": ".py",
   "mimetype": "text/x-python",
   "name": "python",
   "nbconvert_exporter": "python",
   "pygments_lexer": "ipython3",
   "version": "3.10.2"
  }
 },
 "nbformat": 4,
 "nbformat_minor": 5
}
