{
 "cells": [
  {
   "cell_type": "markdown",
   "id": "0397b67d",
   "metadata": {},
   "source": [
    "# 5. 파일 저장"
   ]
  },
  {
   "cell_type": "code",
   "execution_count": 1,
   "id": "60909137",
   "metadata": {},
   "outputs": [],
   "source": [
    "import cv2"
   ]
  },
  {
   "cell_type": "markdown",
   "id": "5241d51d",
   "metadata": {},
   "source": [
    "## 이미지 출력 함수 정의"
   ]
  },
  {
   "cell_type": "code",
   "execution_count": 2,
   "id": "8621cea4",
   "metadata": {},
   "outputs": [],
   "source": [
    "def showImage(str):\n",
    "    \n",
    "    cv2.imshow('My Image', str)\n",
    "    \n",
    "    cv2.waitKey(5000) # 5초간 키 입력 대기\n",
    "    cv2.destroyAllWindows() # 모든 창 닫기\n",
    "\n",
    "    cv2.waitKey(1); cv2.waitKey(1); cv2.waitKey(1); cv2.waitKey(1) # Windows 운영체제에서는 생략"
   ]
  },
  {
   "cell_type": "markdown",
   "id": "6ae56399",
   "metadata": {},
   "source": [
    "## 이미지 저장"
   ]
  },
  {
   "cell_type": "code",
   "execution_count": 4,
   "id": "ab282d88",
   "metadata": {},
   "outputs": [
    {
     "name": "stdout",
     "output_type": "stream",
     "text": [
      "True\n"
     ]
    }
   ],
   "source": [
    "img = cv2.imread('Data/img.jpeg', cv2.IMREAD_GRAYSCALE)\n",
    "\n",
    "showImage(img)\n",
    "\n",
    "result = cv2.imwrite('Data/img_grayscale.jpeg', img)\n",
    "print(result)"
   ]
  },
  {
   "cell_type": "markdown",
   "id": "a5c88af9",
   "metadata": {},
   "source": [
    "### 저장 포맷"
   ]
  },
  {
   "cell_type": "code",
   "execution_count": 13,
   "id": "2caab3e2",
   "metadata": {},
   "outputs": [
    {
     "data": {
      "text/plain": [
       "True"
      ]
     },
     "execution_count": 13,
     "metadata": {},
     "output_type": "execute_result"
    }
   ],
   "source": [
    "img = cv2.imread('Data/img.jpeg', cv2.IMREAD_GRAYSCALE)\n",
    "\n",
    "cv2.imwrite('Data/img_grayscale.png', img)   # jpeg 파일을 png 파일로 변환하여 저장"
   ]
  },
  {
   "cell_type": "markdown",
   "id": "d06b5e09",
   "metadata": {},
   "source": [
    "## 동영상 저장"
   ]
  },
  {
   "cell_type": "code",
   "execution_count": 33,
   "id": "73adb2fb",
   "metadata": {},
   "outputs": [],
   "source": [
    "cap = cv2.VideoCapture('Data/video.mp4')\n",
    "\n",
    "# 코덱 정의\n",
    "fourcc = cv2.VideoWriter_fourcc(*'DIVX')   # *'DIVX'는 'D', 'I', 'V', 'X' 와 같은 의미\n",
    "\n",
    "# 영상 화면 크기\n",
    "width = round(cap.get(cv2.CAP_PROP_FRAME_WIDTH))   # round() 함수는 실수를 정수로 변환하는 함수. 화면 크기로는 정수만 사용 가능\n",
    "height = round(cap.get(cv2.CAP_PROP_FRAME_HEIGHT))\n",
    "\n",
    "# 재생 속도\n",
    "fps = cap.get(cv2.CAP_PROP_FPS)   # FPS는 Frame Per Second의 약어\n",
    "\n",
    "out = cv2.VideoWriter('Data/video.avi', fourcc, fps, (width, height))"
   ]
  },
  {
   "cell_type": "code",
   "execution_count": 34,
   "id": "08ed2b4d",
   "metadata": {},
   "outputs": [],
   "source": [
    "while cap.isOpened():\n",
    "    \n",
    "    ret, frame = cap.read()\n",
    "    \n",
    "    if not ret:\n",
    "        break\n",
    "    \n",
    "    out.write(frame)   # 영상 데이터만 저장(소리는 저장되지 않음)\n",
    "\n",
    "cap.release()\n",
    "out.release()"
   ]
  }
 ],
 "metadata": {
  "kernelspec": {
   "display_name": "Python 3 (ipykernel)",
   "language": "python",
   "name": "python3"
  },
  "language_info": {
   "codemirror_mode": {
    "name": "ipython",
    "version": 3
   },
   "file_extension": ".py",
   "mimetype": "text/x-python",
   "name": "python",
   "nbconvert_exporter": "python",
   "pygments_lexer": "ipython3",
   "version": "3.10.2"
  }
 },
 "nbformat": 4,
 "nbformat_minor": 5
}
