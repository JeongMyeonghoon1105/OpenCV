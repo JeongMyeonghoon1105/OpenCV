{
 "cells": [
  {
   "cell_type": "markdown",
   "id": "eb980aad",
   "metadata": {},
   "source": [
    "# 6. 크기 조정"
   ]
  },
  {
   "cell_type": "code",
   "execution_count": 4,
   "id": "f196eefd",
   "metadata": {},
   "outputs": [],
   "source": [
    "import cv2"
   ]
  },
  {
   "cell_type": "markdown",
   "id": "6fa10a7c",
   "metadata": {},
   "source": [
    "## 이미지 출력 함수 정의"
   ]
  },
  {
   "cell_type": "code",
   "execution_count": 5,
   "id": "0446b9cf",
   "metadata": {},
   "outputs": [],
   "source": [
    "def showImage(str):\n",
    "    \n",
    "    cv2.imshow('My Image', str)\n",
    "    \n",
    "    cv2.waitKey(5000) # 5초간 키 입력 대기\n",
    "    cv2.destroyAllWindows() # 모든 창 닫기\n",
    "\n",
    "    cv2.waitKey(1); cv2.waitKey(1); cv2.waitKey(1); cv2.waitKey(1) # Windows 운영체제에서는 생략"
   ]
  },
  {
   "cell_type": "markdown",
   "id": "d3064a03",
   "metadata": {},
   "source": [
    "## 동영상 재생창 닫는 함수 정의"
   ]
  },
  {
   "cell_type": "code",
   "execution_count": 6,
   "id": "e193f9fd",
   "metadata": {},
   "outputs": [],
   "source": [
    "def offVideo():\n",
    "    cv2.destroyAllWindows() # 모든 창 닫기\n",
    "    cv2.waitKey(1); cv2.waitKey(1); cv2.waitKey(1); cv2.waitKey(1) # Windows 운영체제에서는 생략"
   ]
  },
  {
   "cell_type": "markdown",
   "id": "68054a7b",
   "metadata": {},
   "source": [
    "## 이미지"
   ]
  },
  {
   "cell_type": "markdown",
   "id": "e860d63c",
   "metadata": {},
   "source": [
    "### 비율 무시하고 크기 재설정"
   ]
  },
  {
   "cell_type": "code",
   "execution_count": 7,
   "id": "cd1ae4a4",
   "metadata": {},
   "outputs": [],
   "source": [
    "img = cv2.imread('Data/img.jpeg')\n",
    "new_img = cv2.resize(img, (200, 500))   # 가로 200px, 세로 500px로 이미지 사이즈 변환\n",
    "\n",
    "showImage(img)\n",
    "showImage(new_img)"
   ]
  },
  {
   "cell_type": "markdown",
   "id": "ab291496",
   "metadata": {},
   "source": [
    "### 비율 유지하여 크기 재설정"
   ]
  },
  {
   "cell_type": "code",
   "execution_count": 8,
   "id": "92b75c91",
   "metadata": {},
   "outputs": [],
   "source": [
    "img = cv2.imread('Data/img.jpeg')\n",
    "new_img = cv2.resize(img, None, fx = 0.2, fy = 0.2)   # 비율 유지하여 20% 크기로 축소  \n",
    "\n",
    "showImage(new_img)"
   ]
  },
  {
   "cell_type": "markdown",
   "id": "a7b2b805",
   "metadata": {},
   "source": [
    "### 보간법\n",
    "이미지의 크기를 늘이거나 줄일 때 보다 자연스럽게 처리하기 위한 방법.   \n",
    "예를 들어, 이미지 크기를 키울 때 비는 픽셀을 자연스럽게 채우는 등의 처리를 진행.\n",
    "1. cv2.INTER_AREA : 크기 줄일 때 사용\n",
    "1. cv2.INTER_LINEAR : 크기 늘릴 때 사용(기본값)\n",
    "1. cv2.INTER_CUBIC : 크기 늘릴 때 사용(속도 느림, 퀄리티 우수)"
   ]
  },
  {
   "cell_type": "markdown",
   "id": "a6554e6c",
   "metadata": {},
   "source": [
    "#### 보간법 적용하여 축소"
   ]
  },
  {
   "cell_type": "code",
   "execution_count": 9,
   "id": "e9dc3e29",
   "metadata": {},
   "outputs": [],
   "source": [
    "img = cv2.imread('Data/img.jpeg')\n",
    "new_img = cv2.resize(img, None, fx = 0.2, fy = 0.2, interpolation = cv2.INTER_AREA)\n",
    "\n",
    "showImage(new_img)"
   ]
  },
  {
   "cell_type": "markdown",
   "id": "1f2bfa61",
   "metadata": {},
   "source": [
    "#### 보간법 적용하여 확대"
   ]
  },
  {
   "cell_type": "code",
   "execution_count": 10,
   "id": "a66e57e6",
   "metadata": {},
   "outputs": [],
   "source": [
    "img = cv2.imread('Data/img.jpeg')\n",
    "new_img = cv2.resize(img, None, fx = 2, fy = 2, interpolation = cv2.INTER_CUBIC)\n",
    "\n",
    "showImage(new_img)"
   ]
  },
  {
   "cell_type": "markdown",
   "id": "9dd57efd",
   "metadata": {},
   "source": [
    "## 동영상"
   ]
  },
  {
   "cell_type": "markdown",
   "id": "ea86d795",
   "metadata": {},
   "source": [
    " ### 비율 무시하고 크기 재설정"
   ]
  },
  {
   "cell_type": "code",
   "execution_count": 11,
   "id": "568b50a0",
   "metadata": {},
   "outputs": [],
   "source": [
    "cap = cv2.VideoCapture('Data/video.mp4')\n",
    "\n",
    "while cap.isOpened():\n",
    "    \n",
    "    ret, frame = cap.read()\n",
    "    \n",
    "    if not ret:\n",
    "        break\n",
    "        \n",
    "    resized_frame = cv2.resize(frame, (400, 500))   # 각 프레임의 크기를 변환\n",
    "        \n",
    "    cv2.imshow('My Video', resized_frame)\n",
    "    \n",
    "    if cv2.waitKey(1) == ord('q'):\n",
    "        break\n",
    "\n",
    "cap.release()\n",
    "offVideo()"
   ]
  },
  {
   "cell_type": "markdown",
   "id": "69ec4e7a",
   "metadata": {},
   "source": [
    "### 비율 유지하여 크기 재설정"
   ]
  },
  {
   "cell_type": "code",
   "execution_count": 6,
   "id": "4a8c8164",
   "metadata": {},
   "outputs": [],
   "source": [
    "cap = cv2.VideoCapture('Data/video.mp4')\n",
    "\n",
    "while cap.isOpened():\n",
    "    \n",
    "    ret, frame = cap.read()\n",
    "    \n",
    "    if not ret:\n",
    "        break\n",
    "        \n",
    "    # 각 프레임의 크기를 변환\n",
    "    resized_frame = cv2.resize(frame, None, fx = 0.3, fy = 0.3, interpolation = cv2.INTER_AREA)\n",
    "        \n",
    "    cv2.imshow('My Video', resized_frame)\n",
    "    \n",
    "    if cv2.waitKey(1) == ord('q'):\n",
    "        break\n",
    "\n",
    "cap.release()\n",
    "offVideo()"
   ]
  }
 ],
 "metadata": {
  "kernelspec": {
   "display_name": "Python 3 (ipykernel)",
   "language": "python",
   "name": "python3"
  },
  "language_info": {
   "codemirror_mode": {
    "name": "ipython",
    "version": 3
   },
   "file_extension": ".py",
   "mimetype": "text/x-python",
   "name": "python",
   "nbconvert_exporter": "python",
   "pygments_lexer": "ipython3",
   "version": "3.10.2"
  }
 },
 "nbformat": 4,
 "nbformat_minor": 5
}
