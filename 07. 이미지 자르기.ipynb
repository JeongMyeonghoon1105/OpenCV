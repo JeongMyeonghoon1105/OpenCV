{
 "cells": [
  {
   "cell_type": "markdown",
   "id": "abedaf8c",
   "metadata": {},
   "source": [
    "# 7. 이미지 자르기"
   ]
  },
  {
   "cell_type": "code",
   "execution_count": 1,
   "id": "7c7467df",
   "metadata": {},
   "outputs": [],
   "source": [
    "import cv2"
   ]
  },
  {
   "cell_type": "markdown",
   "id": "27c85653",
   "metadata": {},
   "source": [
    "## 이미지 재생 창 닫는 함수 정의"
   ]
  },
  {
   "cell_type": "code",
   "execution_count": 18,
   "id": "e7864764",
   "metadata": {},
   "outputs": [],
   "source": [
    "def closeImage(str):\n",
    "    \n",
    "    cv2.waitKey(5000) # 5초간 키 입력 대기\n",
    "    cv2.destroyAllWindows() # 모든 창 닫기\n",
    "\n",
    "    cv2.waitKey(1); cv2.waitKey(1); cv2.waitKey(1); cv2.waitKey(1) # Windows 운영체제에서는 생략"
   ]
  },
  {
   "cell_type": "markdown",
   "id": "e213f5bb",
   "metadata": {},
   "source": [
    "## 이미지 자르기"
   ]
  },
  {
   "cell_type": "code",
   "execution_count": 21,
   "id": "b97a601e",
   "metadata": {},
   "outputs": [],
   "source": [
    "img = cv2.imread('Data/img.jpeg')\n",
    "\n",
    "crop = img[200:700, 100:400]   # 세로 200px - 700px, 가로 100px - 400px 살리기\n",
    "\n",
    "cv2.imshow('My Image', img)\n",
    "cv2.imshow('Cropped Image', crop)\n",
    "\n",
    "closeImage(img)\n",
    "closeImage(crop)"
   ]
  },
  {
   "cell_type": "markdown",
   "id": "13292f5b",
   "metadata": {},
   "source": [
    "### 자른 이미지를 기존 이미지 위에 표시"
   ]
  },
  {
   "cell_type": "code",
   "execution_count": 25,
   "id": "56ba75ad",
   "metadata": {},
   "outputs": [],
   "source": [
    "img = cv2.imread('Data/img.jpeg')\n",
    "\n",
    "crop = img[200:700, 100:400]\n",
    "img[200:700, 200:500] = crop   # 세로 200px - 700px, 가로 200px - 500px을 crop 이미지로 대체\n",
    "\n",
    "cv2.imshow('My Image', img)\n",
    "\n",
    "closeImage(img)\n",
    "closeImage(crop)"
   ]
  }
 ],
 "metadata": {
  "kernelspec": {
   "display_name": "Python 3 (ipykernel)",
   "language": "python",
   "name": "python3"
  },
  "language_info": {
   "codemirror_mode": {
    "name": "ipython",
    "version": 3
   },
   "file_extension": ".py",
   "mimetype": "text/x-python",
   "name": "python",
   "nbconvert_exporter": "python",
   "pygments_lexer": "ipython3",
   "version": "3.10.2"
  }
 },
 "nbformat": 4,
 "nbformat_minor": 5
}
