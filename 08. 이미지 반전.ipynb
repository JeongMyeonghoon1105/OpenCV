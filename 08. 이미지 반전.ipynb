{
 "cells": [
  {
   "cell_type": "markdown",
   "id": "4bcfbf4e",
   "metadata": {},
   "source": [
    "# 8. 이미지 반전"
   ]
  },
  {
   "cell_type": "code",
   "execution_count": 1,
   "id": "cb64753b",
   "metadata": {},
   "outputs": [],
   "source": [
    "import cv2"
   ]
  },
  {
   "cell_type": "markdown",
   "id": "776d43f2",
   "metadata": {},
   "source": [
    "## 이미지 출력 함수 정의"
   ]
  },
  {
   "cell_type": "code",
   "execution_count": 2,
   "id": "d2419749",
   "metadata": {},
   "outputs": [],
   "source": [
    "def showImage(str):\n",
    "    \n",
    "    cv2.imshow('My Image', str)\n",
    "    \n",
    "    cv2.waitKey(5000) # 5초간 키 입력 대기\n",
    "    cv2.destroyAllWindows() # 모든 창 닫기\n",
    "\n",
    "    cv2.waitKey(1); cv2.waitKey(1); cv2.waitKey(1); cv2.waitKey(1) # Windows 운영체제에서는 생략"
   ]
  },
  {
   "cell_type": "markdown",
   "id": "406beee3",
   "metadata": {},
   "source": [
    "## 좌우 반전"
   ]
  },
  {
   "cell_type": "code",
   "execution_count": 3,
   "id": "e8ebbc3e",
   "metadata": {},
   "outputs": [],
   "source": [
    "img = cv2.imread('Data/img.jpeg')\n",
    "flip = cv2.flip(img, 1)   # flipCode가 0보다 크면 좌우 반전\n",
    "showImage(flip)"
   ]
  },
  {
   "cell_type": "markdown",
   "id": "19990402",
   "metadata": {},
   "source": [
    "## 상하 반전"
   ]
  },
  {
   "cell_type": "code",
   "execution_count": 4,
   "id": "c55e20bd",
   "metadata": {},
   "outputs": [],
   "source": [
    "img = cv2.imread('Data/img.jpeg')\n",
    "flip = cv2.flip(img, 0)   # flipCode가 0이면 상하 반전\n",
    "showImage(flip)"
   ]
  },
  {
   "cell_type": "markdown",
   "id": "aacec02a",
   "metadata": {},
   "source": [
    "## 상하 좌우 반전"
   ]
  },
  {
   "cell_type": "code",
   "execution_count": 7,
   "id": "81e11023",
   "metadata": {},
   "outputs": [],
   "source": [
    "img = cv2.imread('Data/img.jpeg')\n",
    "flip = cv2.flip(img, -1)   # flipCode가 0보다 작으면 상하 좌우 반전\n",
    "showImage(flip)"
   ]
  }
 ],
 "metadata": {
  "kernelspec": {
   "display_name": "Python 3 (ipykernel)",
   "language": "python",
   "name": "python3"
  },
  "language_info": {
   "codemirror_mode": {
    "name": "ipython",
    "version": 3
   },
   "file_extension": ".py",
   "mimetype": "text/x-python",
   "name": "python",
   "nbconvert_exporter": "python",
   "pygments_lexer": "ipython3",
   "version": "3.10.2"
  }
 },
 "nbformat": 4,
 "nbformat_minor": 5
}
