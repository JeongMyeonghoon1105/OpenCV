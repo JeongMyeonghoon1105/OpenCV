{
 "cells": [
  {
   "cell_type": "markdown",
   "id": "ac431a8f",
   "metadata": {},
   "source": [
    "# 9. 이미지 회전"
   ]
  },
  {
   "cell_type": "code",
   "execution_count": 1,
   "id": "30caca01",
   "metadata": {},
   "outputs": [],
   "source": [
    "import cv2"
   ]
  },
  {
   "cell_type": "markdown",
   "id": "8e278f9d",
   "metadata": {},
   "source": [
    "## 이미지 출력 함수 정의"
   ]
  },
  {
   "cell_type": "code",
   "execution_count": 2,
   "id": "15a15933",
   "metadata": {},
   "outputs": [],
   "source": [
    "def showImage(str):\n",
    "    \n",
    "    cv2.imshow('My Image', str)\n",
    "    \n",
    "    cv2.waitKey(5000) # 5초간 키 입력 대기\n",
    "    cv2.destroyAllWindows() # 모든 창 닫기\n",
    "\n",
    "    cv2.waitKey(1); cv2.waitKey(1); cv2.waitKey(1); cv2.waitKey(1) # Windows 운영체제에서는 생략"
   ]
  },
  {
   "cell_type": "markdown",
   "id": "eb67f47c",
   "metadata": {},
   "source": [
    "## 시계 방향 90도 회전"
   ]
  },
  {
   "cell_type": "code",
   "execution_count": 3,
   "id": "b4085648",
   "metadata": {},
   "outputs": [],
   "source": [
    "img = cv2.imread('Data/img.jpeg')\n",
    "rotate = cv2.rotate(img, cv2.ROTATE_90_CLOCKWISE)   # 시계 방향으로 90도 회전\n",
    "showImage(rotate)"
   ]
  },
  {
   "cell_type": "markdown",
   "id": "88e0b60b",
   "metadata": {},
   "source": [
    "## 180도 회전"
   ]
  },
  {
   "cell_type": "code",
   "execution_count": 4,
   "id": "0475a609",
   "metadata": {},
   "outputs": [],
   "source": [
    "img = cv2.imread('Data/img.jpeg')\n",
    "rotate = cv2.rotate(img, cv2.ROTATE_180)   # 180도 회전\n",
    "showImage(rotate)"
   ]
  },
  {
   "cell_type": "markdown",
   "id": "10bb6d55",
   "metadata": {},
   "source": [
    "## 반시계 방향으로 90도 회전"
   ]
  },
  {
   "cell_type": "code",
   "execution_count": 5,
   "id": "fdb5d4c3",
   "metadata": {},
   "outputs": [],
   "source": [
    "img = cv2.imread('Data/img.jpeg')\n",
    "rotate = cv2.rotate(img, cv2.ROTATE_90_COUNTERCLOCKWISE)   # 시계 방향으로 90도 회전\n",
    "showImage(rotate)"
   ]
  }
 ],
 "metadata": {
  "kernelspec": {
   "display_name": "Python 3 (ipykernel)",
   "language": "python",
   "name": "python3"
  },
  "language_info": {
   "codemirror_mode": {
    "name": "ipython",
    "version": 3
   },
   "file_extension": ".py",
   "mimetype": "text/x-python",
   "name": "python",
   "nbconvert_exporter": "python",
   "pygments_lexer": "ipython3",
   "version": "3.10.2"
  }
 },
 "nbformat": 4,
 "nbformat_minor": 5
}
