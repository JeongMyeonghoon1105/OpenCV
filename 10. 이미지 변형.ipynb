{
 "cells": [
  {
   "cell_type": "markdown",
   "id": "92c997b2",
   "metadata": {},
   "source": [
    "# 10. 이미지 변형\n",
    "이미지 전처리의 기초"
   ]
  },
  {
   "cell_type": "code",
   "execution_count": 2,
   "id": "fcfd3c9e",
   "metadata": {},
   "outputs": [],
   "source": [
    "import cv2"
   ]
  },
  {
   "cell_type": "markdown",
   "id": "eb796437",
   "metadata": {},
   "source": [
    "## 이미지 출력 함수 정의"
   ]
  },
  {
   "cell_type": "code",
   "execution_count": 2,
   "id": "7afbc1ab",
   "metadata": {},
   "outputs": [],
   "source": [
    "def showImage(str):\n",
    "    \n",
    "    cv2.imshow('My Image', str)\n",
    "    \n",
    "    cv2.waitKey(0) # 5초간 키 입력 대기\n",
    "    cv2.destroyAllWindows() # 모든 창 닫기\n",
    "\n",
    "    cv2.waitKey(1); cv2.waitKey(1); cv2.waitKey(1); cv2.waitKey(1) # Windows 운영체제에서는 생략"
   ]
  },
  {
   "cell_type": "markdown",
   "id": "cea8c30e",
   "metadata": {},
   "source": [
    "## 이미지 변형(흑백)"
   ]
  },
  {
   "cell_type": "code",
   "execution_count": 5,
   "id": "13e6a0d7",
   "metadata": {},
   "outputs": [],
   "source": [
    "img = cv2.imread('Data/poker.jpg')\n",
    "\n",
    "showImage(img)"
   ]
  },
  {
   "cell_type": "code",
   "execution_count": 6,
   "id": "ca743d83",
   "metadata": {},
   "outputs": [],
   "source": [
    "img = cv2.imread('Data/img.jpeg')\n",
    "new = cv2.cvtColor(img, cv2.COLOR_BGR2GRAY)\n",
    "showImage(new)"
   ]
  },
  {
   "cell_type": "markdown",
   "id": "d459fb2c",
   "metadata": {},
   "source": [
    "## 이미지 변형(흐림)\n",
    "1. Gaussian Blur 기법 사용\n",
    "1. 외곽선 검출 단순화 효과   \n",
    "1. 노이즈 제거 효과"
   ]
  },
  {
   "cell_type": "markdown",
   "id": "547040af",
   "metadata": {},
   "source": [
    "### 커널 사이즈 변화에 따른 흐림 처리"
   ]
  },
  {
   "cell_type": "code",
   "execution_count": 6,
   "id": "c7e1a206",
   "metadata": {},
   "outputs": [],
   "source": [
    "img = cv2.imread('Data/img.jpeg')\n",
    "\n",
    "# 커널 사이즈 값은 양수 홀수로 지정, sigmaX(가우시안 커널의 x 방향 표준편차) 값을 0으로 지정\n",
    "blur = cv2.GaussianBlur(img, (21, 21), 0)\n",
    "\n",
    "showImage(blur)"
   ]
  },
  {
   "cell_type": "markdown",
   "id": "6591e1bc",
   "metadata": {},
   "source": [
    "### 표준편차 변화에 따른 흐림 처리"
   ]
  },
  {
   "cell_type": "code",
   "execution_count": 7,
   "id": "a906b88b",
   "metadata": {},
   "outputs": [],
   "source": [
    "img = cv2.imread('Data/img.jpeg')\n",
    "\n",
    "# 커널 사이즈 값을 (0, 0)으로 지정, sigmaX 값을 양수로 지정\n",
    "blur = cv2.GaussianBlur(img, (0, 0), 10)\n",
    "\n",
    "showImage(blur)"
   ]
  },
  {
   "cell_type": "markdown",
   "id": "cde5113a",
   "metadata": {},
   "source": [
    "## 이미지 변형(원근)\n",
    "#### 사용 예시\n",
    "1. 사진으로 찍은 문서를 완전한 직사각형 스캔본 형태로 변환\n",
    "1. 비스듬히 찍은 사진을 정면에서 찍은 형태로 변환"
   ]
  },
  {
   "cell_type": "markdown",
   "id": "8da2f71c",
   "metadata": {},
   "source": [
    "### 사다리꼴 형태의 이미지를 직사각형 형태로 펼치기"
   ]
  },
  {
   "cell_type": "code",
   "execution_count": 7,
   "id": "0913de56",
   "metadata": {},
   "outputs": [],
   "source": [
    "import numpy as np\n",
    "\n",
    "img = cv2.imread('Data/news.jpg')\n",
    "\n",
    "width, height = 640, 240\n",
    "\n",
    "# 순서는 좌상단부터 시계방향\n",
    "src = np.array([[1678, 1178], [3378, 1157], [3686, 1835], [1514, 1860]], dtype = np.float32)\n",
    "new = np.array([[0, 0], [width, 0], [width, height], [0, height]], dtype = np.float32)\n",
    "\n",
    "matrix = cv2.getPerspectiveTransform(src, new)   # src 행렬을 new 행렬의 규격에 맞게 변환\n",
    "result = cv2.warpPerspective(img, matrix, (width, height))   # 변환된 행렬대로 이미지 변환\n",
    "\n",
    "showImage(result)\n",
    "write = cv2.imwrite('Data/scan.jpg', result)"
   ]
  },
  {
   "cell_type": "markdown",
   "id": "1ede1e0b",
   "metadata": {},
   "source": [
    "### 기울어진 이미지를 수직 방향으로 세우기"
   ]
  },
  {
   "cell_type": "code",
   "execution_count": 4,
   "id": "4a266298",
   "metadata": {},
   "outputs": [],
   "source": [
    "import numpy as np\n",
    "\n",
    "img = cv2.imread('Data/poker.jpg')\n",
    "\n",
    "width, height = 530, 710\n",
    "\n",
    "# 순서는 좌상단부터 시계방향\n",
    "src = np.array([[2198, 460], [3525, 1299], [2242, 3115], [895, 2182]], dtype = np.float32)\n",
    "new = np.array([[0, 0], [width, 0], [width, height], [0, height]], dtype = np.float32)\n",
    "\n",
    "matrix = cv2.getPerspectiveTransform(src, new)   # src 행렬을 new 행렬의 규격에 맞게 변환\n",
    "result = cv2.warpPerspective(img, matrix, (width, height))   # 변환된 행렬대로 이미지 변환\n",
    "\n",
    "showImage(result)\n",
    "write = cv2.imwrite('Data/rotate.jpg', result)"
   ]
  },
  {
   "cell_type": "markdown",
   "id": "6a433d90",
   "metadata": {},
   "source": [
    "## 반자동 문서 스캐너 만들기"
   ]
  },
  {
   "cell_type": "markdown",
   "id": "3925cfb2",
   "metadata": {},
   "source": [
    "### 마우스 이벤트 등록(Windows)"
   ]
  },
  {
   "cell_type": "code",
   "execution_count": 3,
   "id": "cf01b158",
   "metadata": {},
   "outputs": [],
   "source": [
    "def mouse_handler(event, x, y, flags, param):\n",
    "    \n",
    "    if event == cv2.EVENT_LBUTTONDOWN:\n",
    "        print('Left Button Pressed')\n",
    "    elif event == cv2.EVENT_LBUTTONUP:\n",
    "        print('Left Button Released')\n",
    "\n",
    "img = cv2.imread('Data/poker.jpg')\n",
    "cv2.namedWindow('My_Image')   # My_Image라는 이름의 윈도우 생성. 이 윈도우에 마우스 이벤트 처리를 위한 핸들러 적용\\\n",
    "cv2.setMouseCallback('My_Image', mouse_handler)\n",
    "\n",
    "cv2.imshow('My Image', img)\n",
    "cv2.waitKey(0)\n",
    "cv2.destroyAllWindows()"
   ]
  },
  {
   "cell_type": "markdown",
   "id": "ff501921",
   "metadata": {},
   "source": [
    "### 마우스 이벤트 등록(Mac)"
   ]
  },
  {
   "cell_type": "code",
   "execution_count": null,
   "id": "8176a7c4",
   "metadata": {},
   "outputs": [],
   "source": [
    "def closeImage():\n",
    "    cv2.destroyAllWindows()\n",
    "    cv2.waitKey(1)\n",
    "    cv2.waitKey(1)\n",
    "    cv2.waitKey(1)\n",
    "\n",
    "def mouseHandler(event, x, y, flags, param):\n",
    "    \n",
    "    if event==cv2.EVENT_LBUTTONDOWN:\n",
    "        print('Left Button Pressed')\n",
    "    elif event == cv2.EVENT_LBUTTONUP:\n",
    "        print('Left Button Released')\n",
    "    elif event == cv2.EVENT_LBUTTONDBLCLK:\n",
    "        print('Left Button Double-Clicked')\n",
    "        \n",
    "img = cv2.imread('Data/poker.jpg')\n",
    "\n",
    "cv2.namedWindow('My_Image')\n",
    "cv2.setMouseCallback('My_Image', mouseHandler)\n",
    "\n",
    "while True:\n",
    "    cv2.imshow('My_Image', img)\n",
    "    waitKey = cv2.waitKey(10000) & 0xFF\n",
    "    if waitKey == ord('q'):\n",
    "        break\n",
    "\n",
    "closeImage()"
   ]
  },
  {
   "cell_type": "markdown",
   "id": "2d8ade98",
   "metadata": {},
   "source": [
    "## 프로젝트 코드(Windows)"
   ]
  },
  {
   "cell_type": "code",
   "execution_count": null,
   "id": "8904dba0",
   "metadata": {},
   "outputs": [],
   "source": [
    "import cv2\n",
    "import numpy as np\n",
    "\n",
    "pointList = []                              # 클릭한 좌표를 저장할 리스트\n",
    "img = cv2.imread('Data/poker.jpg')\n",
    "\n",
    "# 마우스 이벤트 등록 함수\n",
    "def mouseHandler(event, x, y, flags, param):\n",
    "    # 마우스 이벤트 등록\n",
    "    if event == cv2.EVENT_LBUTTONDOWN:\n",
    "        pointList.append((x, y))\n",
    "    \n",
    "    # 클릭한 지점 마킹하기\n",
    "    for point in pointList:\n",
    "        cv2.circle(img, point, 30, (255, 0, 255), cv2.FILLED)\n",
    "    \n",
    "    # 4개 지점이 모두 등록되면 스캔 결과 출력 및 저장  \n",
    "    if len(pointList) == 4:\n",
    "        showResult()\n",
    "\n",
    "# 사진 스캔\n",
    "def showResult():\n",
    "    width, height = 530, 710\n",
    "    src = np.float32(pointList)\n",
    "    new = np.array([[0, 0], [width, 0], [width, height], [0, height]], dtype = np.float32)\n",
    "\n",
    "    matrix = cv2.getPerspectiveTransform(src, new)   # src 행렬을 new 행렬의 규격에 맞게 변환\n",
    "    result = cv2.warpPerspective(img, matrix, (width, height))   # 변환된 행렬대로 이미지 변환\n",
    "    cv2.imshow('Result', result)\n",
    "    cv2.imwrite('Data/Poker_Scan.jpg', result)\n",
    "\n",
    "cv2.namedWindow('My_Image')\n",
    "cv2.setMouseCallback('My_Image', mouseHandler)\n",
    "cv2.imshow('My_Image', img)\n",
    "cv2.waitKey(0)\n",
    "cv2.destroyAllWindows()"
   ]
  },
  {
   "cell_type": "markdown",
   "id": "f8ac2676",
   "metadata": {},
   "source": [
    "## 프로젝트 코드(Mac)"
   ]
  },
  {
   "cell_type": "code",
   "execution_count": null,
   "id": "c8d846ea",
   "metadata": {},
   "outputs": [],
   "source": [
    "import cv2\n",
    "import numpy as np\n",
    "\n",
    "pointList = []                              # 클릭한 좌표를 저장할 리스트\n",
    "img = cv2.imread('Data/poker.jpg')\n",
    "\n",
    "# 이미지 창 종료 함수\n",
    "def closeImage():\n",
    "    cv2.destroyAllWindows()\n",
    "    cv2.waitKey(1); cv2.waitKey(1); cv2.waitKey(1)\n",
    "\n",
    "# 마우스 이벤트 등록 함수\n",
    "def mouseHandler(event, x, y, flags, param):\n",
    "    # 마우스 이벤트 등록\n",
    "    if event == cv2.EVENT_LBUTTONDOWN:\n",
    "        pointList.append((x, y))\n",
    "    \n",
    "    # 클릭한 지점 마킹하기\n",
    "    for point in pointList:\n",
    "        cv2.circle(img, point, 30, (255, 0, 255), cv2.FILLED)\n",
    "    \n",
    "    # 4개 지점이 모두 등록되면 스캔 결과 출력 및 저장  \n",
    "    if len(pointList) == 4:\n",
    "        showResult()\n",
    "\n",
    "# 사진 스캔\n",
    "def showResult():\n",
    "    width, height = 530, 710\n",
    "    src = np.float32(pointList)\n",
    "    new = np.array([[0, 0], [width, 0], [width, height], [0, height]], dtype = np.float32)\n",
    "\n",
    "    matrix = cv2.getPerspectiveTransform(src, new)   # src 행렬을 new 행렬의 규격에 맞게 변환\n",
    "    result = cv2.warpPerspective(img, matrix, (width, height))   # 변환된 행렬대로 이미지 변환\n",
    "    cv2.imshow('Result', result)\n",
    "    cv2.imwrite('Data/Poker_Scan.jpg', result)\n",
    "\n",
    "cv2.namedWindow('My_Image')\n",
    "cv2.setMouseCallback('My_Image', mouseHandler)\n",
    "\n",
    "while True:\n",
    "    cv2.imshow('My_Image', img)\n",
    "    waitKey = cv2.waitKey(10000) & 0xFF\n",
    "    if waitKey == ord('q'):\n",
    "        break\n",
    "\n",
    "closeImage()                              # 이미지 창 종료"
   ]
  },
  {
   "cell_type": "markdown",
   "id": "8d3faed1",
   "metadata": {},
   "source": [
    "## 프로젝트 코드(버전 2, Windows)"
   ]
  },
  {
   "cell_type": "code",
   "execution_count": null,
   "id": "322f3a61",
   "metadata": {},
   "outputs": [],
   "source": [
    "import cv2\n",
    "import numpy as np\n",
    "\n",
    "pointList = []                              # 클릭한 좌표를 저장할 리스트\n",
    "img = cv2.imread('Data/poker.jpg')\n",
    "\n",
    "# 마우스 이벤트 등록 함수\n",
    "def mouseHandler(event, x, y, flags, param):\n",
    "    # 마우스 이벤트 등록\n",
    "    if event == cv2.EVENT_LBUTTONDOWN:\n",
    "        pointList.append((x, y))\n",
    "    \n",
    "    # 클릭한 지점 마킹하기\n",
    "    for point in pointList:\n",
    "        cv2.circle(img, point, 30, (255, 0, 255), cv2.FILLED)\n",
    "    \n",
    "    # 클릭한 두 지점을 선으로 연결\n",
    "    i = len(pointList)\n",
    "    if i > 1:\n",
    "        cv2.line(img, pointList[i - 2], pointList[i - 1], (255, 0, 255), 10, cv2.LINE_AA)\n",
    "        if i == 3:\n",
    "            cv2.line(img, pointList[i - 2], pointList[0], (255, 0, 255), 10, cv2.LINE_AA)\n",
    "    \n",
    "    # 4개 지점이 모두 등록되면 스캔 결과 출력 및 저장  \n",
    "    if len(pointList) == 4:\n",
    "        showResult()\n",
    "\n",
    "# 사진 스캔\n",
    "def showResult():\n",
    "    width, height = 530, 710\n",
    "    src = np.float32(pointList)\n",
    "    new = np.array([[0, 0], [width, 0], [width, height], [0, height]], dtype = np.float32)\n",
    "\n",
    "    matrix = cv2.getPerspectiveTransform(src, new)   # src 행렬을 new 행렬의 규격에 맞게 변환\n",
    "    result = cv2.warpPerspective(img, matrix, (width, height))   # 변환된 행렬대로 이미지 변환\n",
    "    cv2.imshow('Result', result)\n",
    "    cv2.imwrite('Data/Poker_Scan.jpg', result)\n",
    "\n",
    "cv2.namedWindow('My_Image')\n",
    "cv2.setMouseCallback('My_Image', mouseHandler)\n",
    "cv2.imshow('My_Image', img)\n",
    "cv2.waitKey(0)\n",
    "cv2.destroyAllWindows()"
   ]
  },
  {
   "cell_type": "markdown",
   "id": "1444d846",
   "metadata": {},
   "source": [
    "## 프로젝트 코드(버전 2, Mac)"
   ]
  },
  {
   "cell_type": "code",
   "execution_count": 10,
   "id": "c3aa9081",
   "metadata": {},
   "outputs": [],
   "source": [
    "import cv2\n",
    "import numpy as np\n",
    "\n",
    "pointList = []                              # 클릭한 좌표를 저장할 리스트\n",
    "img = cv2.imread('Data/poker.jpg')\n",
    "\n",
    "# 이미지 창 종료 함수\n",
    "def closeImage():\n",
    "    cv2.destroyAllWindows()\n",
    "    cv2.waitKey(1); cv2.waitKey(1); cv2.waitKey(1)\n",
    "\n",
    "# 마우스 이벤트 등록 함수\n",
    "def mouseHandler(event, x, y, flags, param):\n",
    "    # 마우스 이벤트 등록\n",
    "    if event == cv2.EVENT_LBUTTONDOWN:\n",
    "        pointList.append((x, y))\n",
    "    \n",
    "    # 마지막으로 클릭한 지점을 저장할 변수\n",
    "    prevPoint = None\n",
    "    \n",
    "    # 클릭한 지점 마킹하고 이전에 마지막으로 클릭한 지점과 연결하기\n",
    "    for point in pointList:\n",
    "        \n",
    "        cv2.circle(img, point, 30, (255, 0, 255), cv2.FILLED)\n",
    "        \n",
    "        if prevPoint:\n",
    "            cv2.line(img, prevPoint, point, (255, 0, 255), 10, cv2.LINE_AA)\n",
    "        \n",
    "        prevPoint = point\n",
    "    \n",
    "    # 4개의 꼭짓점이 모두 등록되면 결과 출력 및 스캔\n",
    "    if len(pointList) == 4:\n",
    "        showResult()\n",
    "\n",
    "# 사진 스캔\n",
    "def showResult():\n",
    "    width, height = 530, 710\n",
    "    src = np.float32(pointList)\n",
    "    new = np.array([[0, 0], [width, 0], [width, height], [0, height]], dtype = np.float32)\n",
    "\n",
    "    matrix = cv2.getPerspectiveTransform(src, new)   # src 행렬을 new 행렬의 규격에 맞게 변환\n",
    "    result = cv2.warpPerspective(img, matrix, (width, height))   # 변환된 행렬대로 이미지 변환\n",
    "    cv2.imshow('Result', result)\n",
    "    cv2.imwrite('Data/Poker_Scan.jpg', result)\n",
    "\n",
    "cv2.namedWindow('My_Image')\n",
    "cv2.setMouseCallback('My_Image', mouseHandler)\n",
    "\n",
    "while True:\n",
    "    cv2.imshow('My_Image', img)\n",
    "    waitKey = cv2.waitKey(10000) & 0xFF\n",
    "    if waitKey == ord('q'):\n",
    "        break\n",
    "\n",
    "closeImage()                              # 이미지 창 종료"
   ]
  },
  {
   "cell_type": "markdown",
   "id": "bfadbb3b",
   "metadata": {},
   "source": [
    "## 프로젝트 코드(버전 3, Windows)"
   ]
  },
  {
   "cell_type": "code",
   "execution_count": null,
   "id": "e7ce5744",
   "metadata": {},
   "outputs": [],
   "source": [
    "import cv2\n",
    "import numpy as np\n",
    "\n",
    "pointList = []                              # 클릭한 좌표를 저장할 리스트\n",
    "img = cv2.imread('Data/poker.jpg')\n",
    "\n",
    "# 마우스 이벤트 등록 함수\n",
    "def mouseHandler(event, x, y, flags, param):\n",
    "    copyImg = img.copy()\n",
    "    \n",
    "    # 마우스 이벤트 등록\n",
    "    if event == cv2.EVENT_LBUTTONDOWN:\n",
    "        pointList.append((x, y))\n",
    "    \n",
    "    # 마지막으로 클릭한 지점을 저장할 변수\n",
    "    prevPoint = None\n",
    "    \n",
    "    # 클릭한 지점 마킹하고 이전에 마지막으로 클릭한 지점과 연결하기\n",
    "    for point in pointList:\n",
    "        \n",
    "        cv2.circle(copyImg, point, 30, (255, 0, 255), cv2.FILLED)\n",
    "        \n",
    "        if prevPoint:\n",
    "            cv2.line(copyImg, prevPoint, point, (255, 0, 255), 10, cv2.LINE_AA)\n",
    "        \n",
    "        prevPoint = point\n",
    "    \n",
    "    if prevPoint:\n",
    "        nextPoint = (x, y)\n",
    "        \n",
    "        # 4개의 꼭짓점이 모두 등록되면 결과 출력 및 스캔\n",
    "        if len(pointList) == 4:\n",
    "            showResult()\n",
    "            nextPoint = pointList[0]\n",
    "        \n",
    "        cv2.line(copyImg, prevPoint, nextPoint, (255, 0, 255), 10, cv2.LINE_AA)\n",
    "    \n",
    "    cv2.imshow('My_Image', copyImg)\n",
    "\n",
    "# 사진 스캔\n",
    "def showResult():\n",
    "    width, height = 530, 710\n",
    "    src = np.float32(pointList)\n",
    "    new = np.array([[0, 0], [width, 0], [width, height], [0, height]], dtype = np.float32)\n",
    "\n",
    "    matrix = cv2.getPerspectiveTransform(src, new)   # src 행렬을 new 행렬의 규격에 맞게 변환\n",
    "    result = cv2.warpPerspective(img, matrix, (width, height))   # 변환된 행렬대로 이미지 변환\n",
    "    cv2.imshow('Result', result)\n",
    "    cv2.imwrite('Data/Poker_Scan.jpg', result)\n",
    "\n",
    "cv2.namedWindow('My_Image')\n",
    "cv2.setMouseCallback('My_Image', mouseHandler)\n",
    "cv2.imshow('My_Image', img)\n",
    "cv2.waitKey(0)\n",
    "cv2.destroyAllWindows()"
   ]
  },
  {
   "cell_type": "markdown",
   "id": "45f10fdd",
   "metadata": {},
   "source": [
    "## 프로젝트 코드(버전 3, Mac)"
   ]
  },
  {
   "cell_type": "code",
   "execution_count": null,
   "id": "2dbeaadc",
   "metadata": {},
   "outputs": [],
   "source": [
    "import cv2\n",
    "import numpy as np\n",
    "\n",
    "pointList = []                              # 클릭한 좌표를 저장할 리스트\n",
    "img = cv2.imread('Data/poker.jpg')\n",
    "\n",
    "# 이미지 창 종료 함수\n",
    "def closeImage():\n",
    "    cv2.destroyAllWindows()\n",
    "    cv2.waitKey(1); cv2.waitKey(1); cv2.waitKey(1)\n",
    "\n",
    "# 마우스 이벤트 등록 함수\n",
    "def mouseHandler(event, x, y, flags, param):\n",
    "    copyImg = img.copy()\n",
    "    \n",
    "    # 마우스 이벤트 등록\n",
    "    if event == cv2.EVENT_LBUTTONDOWN:\n",
    "        pointList.append((x, y))\n",
    "    \n",
    "    # 마지막으로 클릭한 지점을 저장할 변수\n",
    "    prevPoint = None\n",
    "    \n",
    "    # 클릭한 지점 마킹하고 이전에 마지막으로 클릭한 지점과 연결하기\n",
    "    for point in pointList:\n",
    "        \n",
    "        cv2.circle(copyImg, point, 30, (255, 0, 255), cv2.FILLED)\n",
    "        \n",
    "        if prevPoint:\n",
    "            cv2.line(copyImg, prevPoint, point, (255, 0, 255), 10, cv2.LINE_AA)\n",
    "        \n",
    "        prevPoint = point\n",
    "    \n",
    "    if prevPoint:\n",
    "        nextPoint = (x, y)\n",
    "        \n",
    "        # 4개의 꼭짓점이 모두 등록되면 결과 출력 및 스캔\n",
    "        if len(pointList) == 4:\n",
    "            showResult()\n",
    "            nextPoint = pointList[0]\n",
    "        \n",
    "        cv2.line(copyImg, prevPoint, nextPoint, (255, 0, 255), 10, cv2.LINE_AA)\n",
    "    \n",
    "    cv2.imshow('My_Image', copyImg)\n",
    "\n",
    "# 사진 스캔\n",
    "def showResult():\n",
    "    width, height = 530, 710\n",
    "    src = np.float32(pointList)\n",
    "    new = np.array([[0, 0], [width, 0], [width, height], [0, height]], dtype = np.float32)\n",
    "\n",
    "    matrix = cv2.getPerspectiveTransform(src, new)   # src 행렬을 new 행렬의 규격에 맞게 변환\n",
    "    result = cv2.warpPerspective(img, matrix, (width, height))   # 변환된 행렬대로 이미지 변환\n",
    "    cv2.imshow('Result', result)\n",
    "    cv2.imwrite('Data/Poker_Scan.jpg', result)\n",
    "\n",
    "cv2.namedWindow('My_Image')\n",
    "cv2.setMouseCallback('My_Image', mouseHandler)\n",
    "\n",
    "while True:\n",
    "    cv2.imshow('My_Image', img)\n",
    "    waitKey = cv2.waitKey(10000) & 0xFF\n",
    "    if waitKey == ord('q'):\n",
    "        break\n",
    "\n",
    "closeImage()                              # 이미지 창 종료"
   ]
  },
  {
   "cell_type": "code",
   "execution_count": null,
   "id": "65ca8937",
   "metadata": {},
   "outputs": [],
   "source": []
  }
 ],
 "metadata": {
  "kernelspec": {
   "display_name": "Python 3 (ipykernel)",
   "language": "python",
   "name": "python3"
  },
  "language_info": {
   "codemirror_mode": {
    "name": "ipython",
    "version": 3
   },
   "file_extension": ".py",
   "mimetype": "text/x-python",
   "name": "python",
   "nbconvert_exporter": "python",
   "pygments_lexer": "ipython3",
   "version": "3.10.2"
  }
 },
 "nbformat": 4,
 "nbformat_minor": 5
}
