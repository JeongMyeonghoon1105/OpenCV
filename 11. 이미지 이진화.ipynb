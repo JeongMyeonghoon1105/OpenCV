{
 "cells": [
  {
   "cell_type": "markdown",
   "id": "6e381889",
   "metadata": {},
   "source": [
    "## 11. 이미지 이진화"
   ]
  },
  {
   "cell_type": "code",
   "execution_count": 1,
   "id": "bf47d503",
   "metadata": {},
   "outputs": [],
   "source": [
    "import cv2"
   ]
  },
  {
   "cell_type": "markdown",
   "id": "54a8b712",
   "metadata": {},
   "source": [
    "## 이미지 출력 함수 정의"
   ]
  },
  {
   "cell_type": "code",
   "execution_count": 3,
   "id": "1f609b80",
   "metadata": {},
   "outputs": [],
   "source": [
    "def showImage(str):\n",
    "    \n",
    "    cv2.imshow('My Image', str)\n",
    "    \n",
    "    cv2.waitKey(0) # 5초간 키 입력 대기\n",
    "    cv2.destroyAllWindows() # 모든 창 닫기\n",
    "\n",
    "    cv2.waitKey(1); cv2.waitKey(1); cv2.waitKey(1); cv2.waitKey(1) # Windows 운영체제에서는 생략"
   ]
  },
  {
   "cell_type": "markdown",
   "id": "17a4f96f",
   "metadata": {},
   "source": [
    "## Trackbar\n",
    "임계값 변화에 따른 이진화 이미지의 변화를 직관적으로 확인 가능"
   ]
  },
  {
   "cell_type": "code",
   "execution_count": 4,
   "id": "5f4e604a",
   "metadata": {},
   "outputs": [],
   "source": [
    "img = cv2.imread('Data/text.png', cv2.IMREAD_GRAYSCALE)\n",
    "\n",
    "name = 'Trackbar'\n",
    "cv2.nameWindow(name)\n",
    "\n",
    "cv2.createTrackbar('Threshold', name, 127, 255, empty)\n",
    "\n",
    "while True:\n",
    "    thresh = cv2.getTrackbarPos('threshold', name)\n",
    "\n",
    "showImage(binary)"
   ]
  },
  {
   "cell_type": "code",
   "execution_count": null,
   "id": "eb3c187a",
   "metadata": {},
   "outputs": [],
   "source": []
  }
 ],
 "metadata": {
  "kernelspec": {
   "display_name": "Python 3 (ipykernel)",
   "language": "python",
   "name": "python3"
  },
  "language_info": {
   "codemirror_mode": {
    "name": "ipython",
    "version": 3
   },
   "file_extension": ".py",
   "mimetype": "text/x-python",
   "name": "python",
   "nbconvert_exporter": "python",
   "pygments_lexer": "ipython3",
   "version": "3.10.2"
  }
 },
 "nbformat": 4,
 "nbformat_minor": 5
}
