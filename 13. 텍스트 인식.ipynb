{
 "cells": [
  {
   "cell_type": "markdown",
   "id": "494d91d3",
   "metadata": {},
   "source": [
    "# 텍스트 인식"
   ]
  },
  {
   "cell_type": "code",
   "execution_count": 1,
   "id": "5c809367",
   "metadata": {},
   "outputs": [],
   "source": [
    "import cv2\n",
    "import numpy as np\n",
    "import pandas as pd\n",
    "import matplotlib.pyplot as plt"
   ]
  },
  {
   "cell_type": "markdown",
   "id": "77ec10e2",
   "metadata": {},
   "source": [
    "## 이미지 출력 함수 정의"
   ]
  },
  {
   "cell_type": "code",
   "execution_count": 2,
   "id": "ad386b78",
   "metadata": {},
   "outputs": [],
   "source": [
    "def showImage(str):\n",
    "    \n",
    "    cv2.imshow('My Image', str)\n",
    "    \n",
    "    cv2.waitKey(5000) # 5초간 키 입력 대기\n",
    "    cv2.destroyAllWindows() # 모든 창 닫기\n",
    "\n",
    "    cv2.waitKey(1); cv2.waitKey(1); cv2.waitKey(1); cv2.waitKey(1) # Windows 운영체제에서는 생략"
   ]
  },
  {
   "cell_type": "markdown",
   "id": "b068746e",
   "metadata": {},
   "source": [
    "## 원본 이미지 확인"
   ]
  },
  {
   "cell_type": "code",
   "execution_count": 3,
   "id": "44a94ad0",
   "metadata": {},
   "outputs": [],
   "source": [
    "img_original = cv2.imread('Data/text.png')\n",
    "showImage(img_original)"
   ]
  },
  {
   "cell_type": "markdown",
   "id": "96cd189c",
   "metadata": {},
   "source": [
    "## 이미지를 흑백으로 변환"
   ]
  },
  {
   "cell_type": "code",
   "execution_count": 4,
   "id": "c361b4ee",
   "metadata": {},
   "outputs": [],
   "source": [
    "img_original = cv2.imread('Data/text.png')\n",
    "img = cv2.cvtColor(img_original, cv2.COLOR_BGR2GRAY)\n",
    "showImage(img)"
   ]
  },
  {
   "cell_type": "markdown",
   "id": "4a90c0b3",
   "metadata": {},
   "source": [
    "## 이미지의 색상 분포 확인\n",
    "* 흑백 이미지는 0 ~ 255 범위의 색상값 데이터로 표현됨\n",
    "* 이미지의 색상 분포를 0 ~ 255 범위의 히스토그램으로 나타내어 임계값을 결정\n",
    "* 임계값을 기준으로 배경과 텍스트(그림) 구분\n",
    "* 임계값보다 색상값이 작은 부분은 배경으로 판단\n",
    "* 임계값보다 색상값이 큰 부분은 텍스트 또는 그림으로 판단"
   ]
  },
  {
   "cell_type": "code",
   "execution_count": 6,
   "id": "f377a022",
   "metadata": {},
   "outputs": [
    {
     "data": {
      "image/png": "[encoded data removed]",
      "text/plain": [
       "<Figure size 432x288 with 1 Axes>"
      ]
     },
     "metadata": {
      "needs_background": "light"
     },
     "output_type": "display_data"
    }
   ],
   "source": [
    "plt.hist(img.ravel(), 256, [0, 256])\n",
    "plt.show()"
   ]
  },
  {
   "cell_type": "markdown",
   "id": "6866617c",
   "metadata": {},
   "source": [
    "## 임계값을 기준으로 이미지 색상 이진화\n",
    "* 색상값이 임계값보다 큰 부분은 백색으로 표현\n",
    "* 색상값이 임계값보다 작은 부분은 흑색으로 표현\n",
    "* Dilation 기법을 이용해 텍스트 주변을 백색으로 처리(텍스트 팽창)\n",
    "* Erode 기법을 적용하면 텍스트 테두리를 흑색으로 처리(텍스트 침식)\n",
    "\n",
    "https://bkshin.tistory.com/entry/OpenCV-19-%EB%AA%A8%ED%8F%B4%EB%A1%9C%EC%A7%80Morphology-%EC%97%B0%EC%82%B0-%EC%B9%A8%EC%8B%9D-%ED%8C%BD%EC%B0%BD-%EC%97%B4%EB%A6%BC-%EB%8B%AB%ED%9E%98-%EA%B7%B8%EB%A0%88%EB%94%94%EC%96%B8%ED%8A%B8-%ED%83%91%ED%96%87-%EB%B8%94%EB%9E%99%ED%96%87"
   ]
  },
  {
   "cell_type": "code",
   "execution_count": 12,
   "id": "4e3073ee",
   "metadata": {},
   "outputs": [],
   "source": [
    "_, thresh = cv2.threshold(img, 200, 255, cv2.THRESH_BINARY)   # 첫번째 리턴값(threshold)은 무의미(사용 X)\n",
    "\n",
    "kernel = np.ones((5, 5), np.uint8)   # 커널 크기 및 자료형 지정\n",
    "# print(kernel)\n",
    "\n",
    "dilation = cv2.dilate(thresh, kernel, iterations = 2)   # Dilation(팽창), Erode(침식), iterations는 연산 반복 횟수\n",
    "\n",
    "showImage(dilation)"
   ]
  },
  {
   "cell_type": "markdown",
   "id": "700a0c00",
   "metadata": {},
   "source": [
    "## 백색 픽셀들을 한 덩어리로 결합(생략 가능)\n",
    "Morph Close 기법 사용"
   ]
  },
  {
   "cell_type": "code",
   "execution_count": 9,
   "id": "04890d1d",
   "metadata": {},
   "outputs": [],
   "source": [
    "closing = cv2.morphologyEx(dilation, cv2.MORPH_CLOSE, kernel)   # Morph Close\n",
    "\n",
    "showImage(closing)"
   ]
  },
  {
   "cell_type": "markdown",
   "id": "397e15f7",
   "metadata": {},
   "source": [
    "## 백색 픽셀 영역 추출\n",
    "Contour 추출 기법 사용"
   ]
  },
  {
   "cell_type": "code",
   "execution_count": 10,
   "id": "dbc09707",
   "metadata": {},
   "outputs": [],
   "source": [
    "contours, hierarchy = cv2.findContours(closing, cv2.RETR_EXTERNAL, 3)\n",
    "\n",
    "# 원본 이미지 위에 텍스트 영역을 붉은 테두리로 처리\n",
    "img_contour = cv2.drawContours(img_original, contours, -1, (0, 0, 255), 5)\n",
    "# 타겟 이미지, 컨투어, 컨투어 인덱스, 컨투어 라인의 색상, 컨투어 라인의 두께\n",
    "showImage(img_contour)"
   ]
  }
 ],
 "metadata": {
  "kernelspec": {
   "display_name": "Python 3 (ipykernel)",
   "language": "python",
   "name": "python3"
  },
  "language_info": {
   "codemirror_mode": {
    "name": "ipython",
    "version": 3
   },
   "file_extension": ".py",
   "mimetype": "text/x-python",
   "name": "python",
   "nbconvert_exporter": "python",
   "pygments_lexer": "ipython3",
   "version": "3.10.2"
  }
 },
 "nbformat": 4,
 "nbformat_minor": 5
}
