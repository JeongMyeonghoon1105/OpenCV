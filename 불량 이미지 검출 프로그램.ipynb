{
 "cells": [
  {
   "cell_type": "markdown",
   "id": "5f6b570e",
   "metadata": {},
   "source": [
    "# 불량 이미지 검출 프로그램"
   ]
  },
  {
   "cell_type": "markdown",
   "id": "326e8bb7",
   "metadata": {},
   "source": [
    "## 기본 세팅\n",
    "* 기준 이미지의 파일명 : original.jpg\n",
    "* 기타 이미지의 파일명은 무작위로 설정"
   ]
  },
  {
   "cell_type": "markdown",
   "id": "65cb3f0a",
   "metadata": {},
   "source": [
    "## 기능 명세\n",
    "* 기준 이미지와 기타 모든 이미지를 비교\n",
    "* 기준 이미지와 다른 이미지가 발견되면 해당 이미지의 파일명 출력\n",
    "* 디렉토리 내에 불량 이미지가 총 몇 개인지 출력\n",
    "* 불량 이미지들의 복사본을 Defects 폴더에 저장"
   ]
  },
  {
   "cell_type": "code",
   "execution_count": 1,
   "id": "4a73d5d5",
   "metadata": {},
   "outputs": [],
   "source": [
    "import os\n",
    "import cv2\n",
    "import numpy as np"
   ]
  },
  {
   "cell_type": "markdown",
   "id": "3f08b1ee",
   "metadata": {},
   "source": [
    "## 디렉토리의 모든 이미지 로드하기"
   ]
  },
  {
   "cell_type": "code",
   "execution_count": 2,
   "id": "6a73e18d",
   "metadata": {},
   "outputs": [
    {
     "name": "stdout",
     "output_type": "stream",
     "text": [
      "original.jpg\n",
      ".DS_Store\n",
      "jljsalkdfja.jpg\n",
      "kblaskd.jpg\n",
      "kljsdklj30.jpg\n",
      "9349024ksndk.jpg\n",
      "kfdskljsdfl30402.jpg\n",
      "92390sdkljf.jpg\n",
      "skljalkad.jpg\n",
      "ljkdjklsajlk.jpg\n",
      "newlkljeoij.jpg\n",
      "kljdsjkl2000101.jpg\n",
      "kldskl230.jpg\n",
      "kljwekdfsklj.jpg\n",
      "29034skjf.jpg\n",
      "jalsjla200030.jpg\n"
     ]
    }
   ],
   "source": [
    "# 불러올 이미지들을 저장할 리스트\n",
    "img = []\n",
    "\n",
    "# 이미지들의 파일명들을 저장할 리스트\n",
    "imageNames = []\n",
    "\n",
    "# 이미지 불러오기\n",
    "for i, imageName in enumerate(os.listdir('TestData/')):\n",
    "    # 불러올 이미지의 경로를 변수에 저장\n",
    "    path = 'TestData/' + imageName\n",
    "    \n",
    "    # 이미지 불러오기\n",
    "    img.append(cv2.imread(path, cv2.IMREAD_COLOR))\n",
    "    \n",
    "    # 불러온 이미지의 파일명을 리스트에 저장\n",
    "    imageNames.append(imageName)\n",
    "    \n",
    "    # 기준 이미지를 리스트의 선두로 가져오기\n",
    "    if imageName == 'original.jpg':\n",
    "        temp = img[0]; img[0] = img[i]; img[i] = temp\n",
    "        temp = imageNames[0]; imageNames[0] = imageNames[i]; imageNames[i] = temp\n",
    "    \n",
    "for i in imageNames:\n",
    "    print(i)"
   ]
  },
  {
   "cell_type": "markdown",
   "id": "6ceae050",
   "metadata": {},
   "source": [
    "## 이미지 비교 함수 정의"
   ]
  },
  {
   "cell_type": "code",
   "execution_count": 3,
   "id": "4bf32c65",
   "metadata": {},
   "outputs": [],
   "source": [
    "def compareImage(original, compare):\n",
    "    imgs = [original, compare]\n",
    "    hists = []\n",
    "    hists.clear()\n",
    "    \n",
    "    for i in imgs:\n",
    "        hsv = cv2.cvtColor(i, cv2.COLOR_BGR2HSV)\n",
    "        hist = cv2.calcHist([hsv], [0, 1], None, [180, 256], [0, 180, 0, 256])\n",
    "        cv2.normalize(hist, hist, 0, 1, cv2.NORM_MINMAX)\n",
    "        hists.append(hist)\n",
    "\n",
    "    # 카이 제곱 알고리즘으로 이미지 비교 수행\n",
    "    ret = cv2.compareHist(hists[0], hists[1], cv2.HISTCMP_CHISQR)\n",
    "\n",
    "    # 비교 결과 리턴\n",
    "    return ret"
   ]
  },
  {
   "cell_type": "markdown",
   "id": "c04c6c1a",
   "metadata": {},
   "source": [
    "## 기준 이미지와 다른 이미지 찾아내기(일반 디렉토리에서 실행하는 경우)"
   ]
  },
  {
   "cell_type": "code",
   "execution_count": null,
   "id": "6e305b9f",
   "metadata": {},
   "outputs": [],
   "source": [
    "defectImgsName = []\n",
    "\n",
    "for (i, targetImage) in enumerate(img):\n",
    "    # 비교 함수 호출\n",
    "    result = compareImage(img[0], targetImage)\n",
    "    # 비교 결과 수치 출력(실행 속도 향상을 위해 주석 처리)\n",
    "    # print(imageNames[i] + '\\t\\t' + str(result))\n",
    "    # 불량 판정(아래 if문의 조건식을 수정하여 불량 판정 기준 변경)\n",
    "    if result > 0.02:\n",
    "        defectImgsName.append(imageNames[i])\n",
    "\n",
    "if len(defectImgsName) == 0:\n",
    "    print(\"모든 이미지가 정상으로 판별되었습니다.\")\n",
    "else:\n",
    "    for i, defectImage in enumerate(imageNames):\n",
    "        if defectImage in defectImgsName:\n",
    "            print(imageNames[i], end = '\\t'); print(\"이미지는 불량으로 판별되었습니다.\")\n",
    "    print(\"\\n불량 이미지는 총 %d개로 확인되었습니다.\" % len(defectImgsName))"
   ]
  },
  {
   "cell_type": "markdown",
   "id": "af2698eb",
   "metadata": {},
   "source": [
    "## 기준 이미지와 다른 이미지 찾아내기(Github 디렉토리에서 실행하는 경우)"
   ]
  },
  {
   "cell_type": "code",
   "execution_count": 4,
   "id": "ded373cc",
   "metadata": {},
   "outputs": [
    {
     "name": "stdout",
     "output_type": "stream",
     "text": [
      "skljalkad.jpg\t이미지는 불량으로 판별되었습니다.\n",
      "ljkdjklsajlk.jpg\t이미지는 불량으로 판별되었습니다.\n",
      "jalsjla200030.jpg\t이미지는 불량으로 판별되었습니다.\n",
      "\n",
      "불량 이미지는 총 3개로 확인되었습니다.\n"
     ]
    }
   ],
   "source": [
    "defectImgsName = []\n",
    "\n",
    "for (i, targetImage) in enumerate(img):\n",
    "    if imageNames[i] != '.DS_Store':\n",
    "        # 비교 함수 호출\n",
    "        result = compareImage(img[0], targetImage)\n",
    "        # 비교 결과 수치 출력(실행 속도 향상을 위해 주석 처리)\n",
    "        # print(imageNames[i] + '\\t\\t' + str(result))\n",
    "        # 불량 판정(아래 if문의 조건식을 수정하여 불량 판정 기준 변경)\n",
    "        if result > 0.02:\n",
    "            defectImgsName.append(imageNames[i])\n",
    "\n",
    "if len(defectImgsName) == 0:\n",
    "    print(\"모든 이미지가 정상으로 판별되었습니다.\")\n",
    "else:\n",
    "    for i, defectImage in enumerate(imageNames):\n",
    "        if defectImage in defectImgsName:\n",
    "            print(imageNames[i], end = '\\t'); print(\"이미지는 불량으로 판별되었습니다.\")\n",
    "    print(\"\\n불량 이미지는 총 %d개로 확인되었습니다.\" % len(defectImgsName))"
   ]
  },
  {
   "cell_type": "markdown",
   "id": "042716de",
   "metadata": {},
   "source": [
    "## 불량 이미지들의 복사본을 새 디렉토리에 저장"
   ]
  },
  {
   "cell_type": "code",
   "execution_count": 5,
   "id": "a00c75f8",
   "metadata": {},
   "outputs": [],
   "source": [
    "CheckDir = 0\n",
    "\n",
    "if len(defectImgsName) != 0:\n",
    "    for dirName in os.listdir('./'):\n",
    "        if dirName == 'Defects':\n",
    "            CheckDir = CheckDir + 1\n",
    "            break\n",
    "    if CheckDir == 0:\n",
    "        os.mkdir('./Defects')\n",
    "\n",
    "for i, searchImg in enumerate(imageNames):\n",
    "    if searchImg in defectImgsName:\n",
    "        filename = 'Defects/' + searchImg\n",
    "        cv2.imwrite(filename, img[i])"
   ]
  }
 ],
 "metadata": {
  "kernelspec": {
   "display_name": "Python 3 (ipykernel)",
   "language": "python",
   "name": "python3"
  },
  "language_info": {
   "codemirror_mode": {
    "name": "ipython",
    "version": 3
   },
   "file_extension": ".py",
   "mimetype": "text/x-python",
   "name": "python",
   "nbconvert_exporter": "python",
   "pygments_lexer": "ipython3",
   "version": "3.10.2"
  }
 },
 "nbformat": 4,
 "nbformat_minor": 5
}
